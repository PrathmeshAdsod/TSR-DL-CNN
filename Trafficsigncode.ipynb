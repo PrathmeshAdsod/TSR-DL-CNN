{
 "cells": [
  {
   "cell_type": "code",
   "execution_count": 2,
   "metadata": {},
   "outputs": [],
   "source": [
    "import numpy as np\n",
    "import pandas as pd\n",
    "import matplotlib.pyplot as plt\n",
    "import tensorflow as tf\n",
    "from PIL import Image\n",
    "import os \n",
    "from sklearn.model_selection import train_test_split\n",
    "from tensorflow.keras.utils import to_categorical\n",
    "from tensorflow.keras.models import Sequential\n",
    "from tensorflow.keras.layers import Conv2D,MaxPool2D,Dense,Flatten,Dropout\n"
   ]
  },
  {
   "cell_type": "code",
   "execution_count": 3,
   "metadata": {},
   "outputs": [],
   "source": [
    "data = []\n",
    "labels = []\n",
    "classes = 43 \n",
    "cur_path = os.getcwd()\n",
    "for i in range(0,classes): \n",
    "    path = os.path.join(cur_path,\"Train\",str(i)) \n",
    "    images = os.listdir(path) \n",
    "    \n",
    "    for a in images: \n",
    "        try: \n",
    "            image = Image.open(path +'\\\\' + a) \n",
    "            image = image.resize((30,30)) \n",
    "            image = np.array(image) \n",
    "            data.append(image) \n",
    "            labels.append(i) \n",
    "        except: \n",
    "            print(\"Error loading image\") \n",
    "data = np.array(data)\n",
    "labels = np.array(labels)"
   ]
  },
  {
   "cell_type": "code",
   "execution_count": 4,
   "metadata": {},
   "outputs": [
    {
     "name": "stdout",
     "output_type": "stream",
     "text": [
      "(39209, 30, 30, 3) (39209,)\n",
      "(31367, 30, 30, 3) (7842, 30, 30, 3) (31367,) (7842,)\n"
     ]
    }
   ],
   "source": [
    "print(data.shape, labels.shape)\n",
    "#Splitting training and testing dataset\n",
    "X_train, X_test, y_train, y_test = train_test_split(data, labels, test_size=0.2, random_state=42)\n",
    "print(X_train.shape, X_test.shape, y_train.shape, y_test.shape)\n"
   ]
  },
  {
   "cell_type": "code",
   "execution_count": 5,
   "metadata": {},
   "outputs": [],
   "source": [
    "#Converting the labels into one hot encoding\n",
    "y_train = to_categorical(y_train, 43)\n",
    "y_test = to_categorical(y_test, 43)"
   ]
  },
  {
   "cell_type": "code",
   "execution_count": 6,
   "metadata": {},
   "outputs": [],
   "source": [
    "#Building the model\n",
    "model = Sequential()\n",
    "model.add(Conv2D(filters=32, kernel_size=(5,5), activation='relu', input_shape=X_train.shape[1:]))\n",
    "model.add(Conv2D(filters=32, kernel_size=(5,5), activation='relu'))\n",
    "model.add(MaxPool2D(pool_size=(2, 2)))\n",
    "model.add(Dropout(rate=0.25))\n",
    "model.add(Conv2D(filters=64, kernel_size=(3, 3), activation='relu'))\n",
    "model.add(Conv2D(filters=64, kernel_size=(3, 3), activation='relu'))\n",
    "model.add(MaxPool2D(pool_size=(2, 2)))\n",
    "model.add(Dropout(rate=0.25))\n",
    "model.add(Flatten())\n",
    "model.add(Dense(256, activation='relu'))\n",
    "model.add(Dropout(rate=0.5))\n",
    "model.add(Dense(43, activation='softmax'))\n",
    "#Compilation of the model\n",
    "model.compile(loss='categorical_crossentropy', optimizer='adam', metrics=['accuracy'])"
   ]
  },
  {
   "cell_type": "code",
   "execution_count": 7,
   "metadata": {},
   "outputs": [
    {
     "name": "stdout",
     "output_type": "stream",
     "text": [
      "Epoch 1/25\n",
      "491/491 [==============================] - 213s 422ms/step - loss: 1.8551 - accuracy: 0.5499 - val_loss: 0.2684 - val_accuracy: 0.9399\n",
      "Epoch 2/25\n",
      "491/491 [==============================] - 196s 400ms/step - loss: 0.4651 - accuracy: 0.8711 - val_loss: 0.1158 - val_accuracy: 0.9758\n",
      "Epoch 3/25\n",
      "491/491 [==============================] - 206s 419ms/step - loss: 0.2713 - accuracy: 0.9261 - val_loss: 0.0798 - val_accuracy: 0.9819\n",
      "Epoch 4/25\n",
      "491/491 [==============================] - 206s 420ms/step - loss: 0.2005 - accuracy: 0.9470 - val_loss: 0.0739 - val_accuracy: 0.9836\n",
      "Epoch 5/25\n",
      "491/491 [==============================] - 203s 414ms/step - loss: 0.1637 - accuracy: 0.9561 - val_loss: 0.0338 - val_accuracy: 0.9916\n",
      "Epoch 6/25\n",
      "491/491 [==============================] - 200s 407ms/step - loss: 0.1519 - accuracy: 0.9592 - val_loss: 0.0539 - val_accuracy: 0.9857\n",
      "Epoch 7/25\n",
      "491/491 [==============================] - 203s 414ms/step - loss: 0.1415 - accuracy: 0.9616 - val_loss: 0.0384 - val_accuracy: 0.9904\n",
      "Epoch 8/25\n",
      "491/491 [==============================] - 206s 419ms/step - loss: 0.1418 - accuracy: 0.9639 - val_loss: 0.0426 - val_accuracy: 0.9903\n",
      "Epoch 9/25\n",
      "491/491 [==============================] - 203s 414ms/step - loss: 0.1108 - accuracy: 0.9721 - val_loss: 0.0662 - val_accuracy: 0.9809\n",
      "Epoch 10/25\n",
      "491/491 [==============================] - 199s 405ms/step - loss: 0.1844 - accuracy: 0.9543 - val_loss: 0.0270 - val_accuracy: 0.9930\n",
      "Epoch 11/25\n",
      "491/491 [==============================] - 203s 414ms/step - loss: 0.1232 - accuracy: 0.9676 - val_loss: 0.0252 - val_accuracy: 0.9939\n",
      "Epoch 12/25\n",
      "491/491 [==============================] - 206s 419ms/step - loss: 0.1138 - accuracy: 0.9699 - val_loss: 0.0634 - val_accuracy: 0.9830\n",
      "Epoch 13/25\n",
      "491/491 [==============================] - 202s 411ms/step - loss: 0.1182 - accuracy: 0.9695 - val_loss: 0.0322 - val_accuracy: 0.9922\n",
      "Epoch 14/25\n",
      "491/491 [==============================] - 209s 426ms/step - loss: 0.0972 - accuracy: 0.9749 - val_loss: 0.0221 - val_accuracy: 0.9944\n",
      "Epoch 15/25\n",
      "491/491 [==============================] - 201s 409ms/step - loss: 0.1047 - accuracy: 0.9738 - val_loss: 0.0287 - val_accuracy: 0.9931\n",
      "Epoch 16/25\n",
      "491/491 [==============================] - 203s 414ms/step - loss: 0.1034 - accuracy: 0.9729 - val_loss: 0.0209 - val_accuracy: 0.9943\n",
      "Epoch 17/25\n",
      "491/491 [==============================] - 204s 415ms/step - loss: 0.0996 - accuracy: 0.9752 - val_loss: 0.0164 - val_accuracy: 0.9964\n",
      "Epoch 18/25\n",
      "491/491 [==============================] - 229s 467ms/step - loss: 0.0887 - accuracy: 0.9776 - val_loss: 0.0362 - val_accuracy: 0.9888\n",
      "Epoch 19/25\n",
      "491/491 [==============================] - 237s 482ms/step - loss: 0.1217 - accuracy: 0.9709 - val_loss: 0.0230 - val_accuracy: 0.9945\n",
      "Epoch 20/25\n",
      "491/491 [==============================] - 211s 429ms/step - loss: 0.0961 - accuracy: 0.9772 - val_loss: 0.0270 - val_accuracy: 0.9930\n",
      "Epoch 21/25\n",
      "491/491 [==============================] - 235s 479ms/step - loss: 0.0940 - accuracy: 0.9775 - val_loss: 0.0465 - val_accuracy: 0.9890\n",
      "Epoch 22/25\n",
      "491/491 [==============================] - 255s 520ms/step - loss: 0.1112 - accuracy: 0.9743 - val_loss: 0.0274 - val_accuracy: 0.9939\n",
      "Epoch 23/25\n",
      "491/491 [==============================] - 262s 534ms/step - loss: 0.0901 - accuracy: 0.9795 - val_loss: 0.0162 - val_accuracy: 0.9958\n",
      "Epoch 24/25\n",
      "491/491 [==============================] - 271s 553ms/step - loss: 0.1271 - accuracy: 0.9712 - val_loss: 0.0668 - val_accuracy: 0.9830\n",
      "Epoch 25/25\n",
      "491/491 [==============================] - 247s 503ms/step - loss: 0.1144 - accuracy: 0.9743 - val_loss: 0.0259 - val_accuracy: 0.9936\n"
     ]
    }
   ],
   "source": [
    "# More than 1 hour it took to train this model\n",
    "epochs = 25\n",
    "history = model.fit(X_train, y_train, batch_size=64, epochs=epochs, validation_data=(X_test, y_test))\n"
   ]
  },
  {
   "cell_type": "code",
   "execution_count": 8,
   "metadata": {},
   "outputs": [],
   "source": [
    "model.save(\"my_model.h5\")"
   ]
  },
  {
   "cell_type": "code",
   "execution_count": 9,
   "metadata": {},
   "outputs": [
    {
     "data": {
      "image/png": "[encoded data removed]",
      "text/plain": [
       "<Figure size 432x288 with 1 Axes>"
      ]
     },
     "metadata": {
      "needs_background": "light"
     },
     "output_type": "display_data"
    },
    {
     "data": {
      "image/png": "[encoded data removed]",
      "text/plain": [
       "<Figure size 432x288 with 1 Axes>"
      ]
     },
     "metadata": {
      "needs_background": "light"
     },
     "output_type": "display_data"
    }
   ],
   "source": [
    "\n",
    "#plotting graphs for accuracy \n",
    "plt.figure(0)\n",
    "plt.plot(history.history['accuracy'], label='training accuracy')\n",
    "plt.plot(history.history['val_accuracy'], label='val accuracy')\n",
    "plt.title('Accuracy')\n",
    "plt.xlabel('epochs')\n",
    "plt.ylabel('accuracy')\n",
    "plt.legend()\n",
    "plt.show()\n",
    "plt.figure(1)\n",
    "plt.plot(history.history['loss'], label='training loss')\n",
    "plt.plot(history.history['val_loss'], label='val loss')\n",
    "plt.title('Loss')\n",
    "plt.xlabel('epochs')\n",
    "plt.ylabel('loss')\n",
    "plt.legend()\n",
    "plt.show()"
   ]
  },
  {
   "cell_type": "code",
   "execution_count": 10,
   "metadata": {
    "scrolled": true
   },
   "outputs": [
    {
     "name": "stdout",
     "output_type": "stream",
     "text": [
      "395/395 [==============================] - 19s 47ms/step\n",
      "0.9654790182106097\n"
     ]
    }
   ],
   "source": [
    "\n",
    "#testing accuracy on test dataset\n",
    "from sklearn.metrics import accuracy_score\n",
    "import pandas as pd\n",
    "y_test = pd.read_csv('Test.csv')\n",
    "\n",
    "labels = y_test[\"ClassId\"].values\n",
    "imgs = y_test[\"Path\"].values\n",
    "\n",
    "data=[]\n",
    "\n",
    "for img in imgs:\n",
    "    image = Image.open(img)\n",
    "    image = image.resize((30,30))\n",
    "    data.append(np.array(image))\n",
    "\n",
    "X_test=np.array(data)\n",
    "\n",
    "pred=np.argmax(model.predict(X_test), axis=1)\n",
    "#Accuracy with the test data\n",
    "from sklearn.metrics import accuracy_score\n",
    "print(accuracy_score(labels, pred))\n"
   ]
  },
  {
   "cell_type": "code",
   "execution_count": 11,
   "metadata": {},
   "outputs": [],
   "source": [
    "model.save(\"my_model.h5\")"
   ]
  },
  {
   "cell_type": "code",
   "execution_count": 12,
   "metadata": {},
   "outputs": [],
   "source": [
    "model.save_weights(\"model_weights.h5\")"
   ]
  },
  {
   "cell_type": "code",
   "execution_count": null,
   "metadata": {},
   "outputs": [],
   "source": []
  }
 ],
 "metadata": {
  "kernelspec": {
   "display_name": "Python 3 (ipykernel)",
   "language": "python",
   "name": "python3"
  },
  "language_info": {
   "codemirror_mode": {
    "name": "ipython",
    "version": 3
   },
   "file_extension": ".py",
   "mimetype": "text/x-python",
   "name": "python",
   "nbconvert_exporter": "python",
   "pygments_lexer": "ipython3",
   "version": "3.9.1"
  }
 },
 "nbformat": 4,
 "nbformat_minor": 4
}
